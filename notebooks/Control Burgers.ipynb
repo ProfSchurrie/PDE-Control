{
 "cells": [
  {
   "cell_type": "markdown",
   "metadata": {},
   "source": [
    "# Learning to Control Burgers Equation with Differentiable Physics\n",
    "This notebook will walk you through data generation, supervised network initialization and end-to-end training using our differentiable PDE solver, [Φ<sub>Flow</sub>](https://github.com/tum-pbs/PhiFlow).\n",
    "\n",
    "The code below replicates experiment 1 from the ICLR 2020 paper [Learning to Control PDEs with Differentiable Physics](https://ge.in.tum.de/publications/2020-iclr-holl/). The original experiment was performed on an older version of the solver, the code for which can be found under `/legacy`."
   ]
  },
  {
   "metadata": {
    "ExecuteTime": {
     "end_time": "2025-06-26T12:46:00.689092Z",
     "start_time": "2025-06-26T12:46:00.684564Z"
    }
   },
   "cell_type": "code",
   "source": [
    "import sys, os\n",
    "\n",
    "# Go one directory up from notebooks/\n",
    "project_root = os.path.abspath(os.path.join(os.getcwd(), '..'))\n",
    "src_path = os.path.join(project_root, 'src')\n",
    "phiflow_path = os.path.join(project_root, 'PhiFlow')\n",
    "\n",
    "sys.path.insert(0, src_path)\n",
    "sys.path.insert(0, phiflow_path)"
   ],
   "outputs": [],
   "execution_count": 1
  },
  {
   "metadata": {},
   "cell_type": "markdown",
   "source": ""
  },
  {
   "metadata": {
    "ExecuteTime": {
     "end_time": "2025-06-26T12:46:03.499651Z",
     "start_time": "2025-06-26T12:46:02.085372Z"
    }
   },
   "cell_type": "code",
   "source": [
    "from control.pde.burgers import GaussianClash, GaussianForce\n",
    "import burgers_plots as bplt\n",
    "import matplotlib.pyplot as plt\n",
    "from phi.flow import *"
   ],
   "outputs": [
    {
     "name": "stderr",
     "output_type": "stream",
     "text": [
      "/home/soeren/.pyenv/versions/pde36/lib/python3.6/site-packages/tensorflow/python/framework/dtypes.py:516: FutureWarning: Passing (type, 1) or '1type' as a synonym of type is deprecated; in a future version of numpy, it will be understood as (type, (1,)) / '(1,)type'.\n",
      "  _np_qint8 = np.dtype([(\"qint8\", np.int8, 1)])\n",
      "/home/soeren/.pyenv/versions/pde36/lib/python3.6/site-packages/tensorflow/python/framework/dtypes.py:517: FutureWarning: Passing (type, 1) or '1type' as a synonym of type is deprecated; in a future version of numpy, it will be understood as (type, (1,)) / '(1,)type'.\n",
      "  _np_quint8 = np.dtype([(\"quint8\", np.uint8, 1)])\n",
      "/home/soeren/.pyenv/versions/pde36/lib/python3.6/site-packages/tensorflow/python/framework/dtypes.py:518: FutureWarning: Passing (type, 1) or '1type' as a synonym of type is deprecated; in a future version of numpy, it will be understood as (type, (1,)) / '(1,)type'.\n",
      "  _np_qint16 = np.dtype([(\"qint16\", np.int16, 1)])\n",
      "/home/soeren/.pyenv/versions/pde36/lib/python3.6/site-packages/tensorflow/python/framework/dtypes.py:519: FutureWarning: Passing (type, 1) or '1type' as a synonym of type is deprecated; in a future version of numpy, it will be understood as (type, (1,)) / '(1,)type'.\n",
      "  _np_quint16 = np.dtype([(\"quint16\", np.uint16, 1)])\n",
      "/home/soeren/.pyenv/versions/pde36/lib/python3.6/site-packages/tensorflow/python/framework/dtypes.py:520: FutureWarning: Passing (type, 1) or '1type' as a synonym of type is deprecated; in a future version of numpy, it will be understood as (type, (1,)) / '(1,)type'.\n",
      "  _np_qint32 = np.dtype([(\"qint32\", np.int32, 1)])\n",
      "/home/soeren/.pyenv/versions/pde36/lib/python3.6/site-packages/tensorflow/python/framework/dtypes.py:525: FutureWarning: Passing (type, 1) or '1type' as a synonym of type is deprecated; in a future version of numpy, it will be understood as (type, (1,)) / '(1,)type'.\n",
      "  np_resource = np.dtype([(\"resource\", np.ubyte, 1)])\n",
      "/home/soeren/.pyenv/versions/pde36/lib/python3.6/site-packages/tensorboard/compat/tensorflow_stub/dtypes.py:541: FutureWarning: Passing (type, 1) or '1type' as a synonym of type is deprecated; in a future version of numpy, it will be understood as (type, (1,)) / '(1,)type'.\n",
      "  _np_qint8 = np.dtype([(\"qint8\", np.int8, 1)])\n",
      "/home/soeren/.pyenv/versions/pde36/lib/python3.6/site-packages/tensorboard/compat/tensorflow_stub/dtypes.py:542: FutureWarning: Passing (type, 1) or '1type' as a synonym of type is deprecated; in a future version of numpy, it will be understood as (type, (1,)) / '(1,)type'.\n",
      "  _np_quint8 = np.dtype([(\"quint8\", np.uint8, 1)])\n",
      "/home/soeren/.pyenv/versions/pde36/lib/python3.6/site-packages/tensorboard/compat/tensorflow_stub/dtypes.py:543: FutureWarning: Passing (type, 1) or '1type' as a synonym of type is deprecated; in a future version of numpy, it will be understood as (type, (1,)) / '(1,)type'.\n",
      "  _np_qint16 = np.dtype([(\"qint16\", np.int16, 1)])\n",
      "/home/soeren/.pyenv/versions/pde36/lib/python3.6/site-packages/tensorboard/compat/tensorflow_stub/dtypes.py:544: FutureWarning: Passing (type, 1) or '1type' as a synonym of type is deprecated; in a future version of numpy, it will be understood as (type, (1,)) / '(1,)type'.\n",
      "  _np_quint16 = np.dtype([(\"quint16\", np.uint16, 1)])\n",
      "/home/soeren/.pyenv/versions/pde36/lib/python3.6/site-packages/tensorboard/compat/tensorflow_stub/dtypes.py:545: FutureWarning: Passing (type, 1) or '1type' as a synonym of type is deprecated; in a future version of numpy, it will be understood as (type, (1,)) / '(1,)type'.\n",
      "  _np_qint32 = np.dtype([(\"qint32\", np.int32, 1)])\n",
      "/home/soeren/.pyenv/versions/pde36/lib/python3.6/site-packages/tensorboard/compat/tensorflow_stub/dtypes.py:550: FutureWarning: Passing (type, 1) or '1type' as a synonym of type is deprecated; in a future version of numpy, it will be understood as (type, (1,)) / '(1,)type'.\n",
      "  np_resource = np.dtype([(\"resource\", np.ubyte, 1)])\n"
     ]
    },
    {
     "name": "stdout",
     "output_type": "stream",
     "text": [
      "Could not load resample cuda libraries: CUDA binaries not found at /home/soeren/.pyenv/versions/3.6.15/envs/pde36/lib/python3.6/site-packages/phi/tf/cuda/build/resample.so. Run \"python setup.py cuda\" to compile them\n"
     ]
    },
    {
     "name": "stderr",
     "output_type": "stream",
     "text": [
      "/home/soeren/.pyenv/versions/pde36/lib/python3.6/site-packages/phi/viz/dash/dash_gui.py:2: UserWarning: \n",
      "The dash_core_components package is deprecated. Please replace\n",
      "`import dash_core_components as dcc` with `from dash import dcc`\n",
      "  import dash_core_components as dcc\n",
      "/home/soeren/.pyenv/versions/pde36/lib/python3.6/site-packages/phi/viz/dash/dash_gui.py:3: UserWarning: \n",
      "The dash_html_components package is deprecated. Please replace\n",
      "`import dash_html_components as html` with `from dash import html`\n",
      "  import dash_html_components as html\n"
     ]
    },
    {
     "name": "stdout",
     "output_type": "stream",
     "text": [
      "WARNING:tensorflow:From /home/soeren/.pyenv/versions/pde36/lib/python3.6/site-packages/phi/tf/util.py:119: The name tf.AUTO_REUSE is deprecated. Please use tf.compat.v1.AUTO_REUSE instead.\n",
      "\n",
      "WARNING:tensorflow:From /home/soeren/.pyenv/versions/pde36/lib/python3.6/site-packages/phi/tf/profiling.py:12: The name tf.RunOptions is deprecated. Please use tf.compat.v1.RunOptions instead.\n",
      "\n",
      "WARNING:tensorflow:From /home/soeren/.pyenv/versions/pde36/lib/python3.6/site-packages/phi/tf/profiling.py:13: The name tf.RunMetadata is deprecated. Please use tf.compat.v1.RunMetadata instead.\n",
      "\n"
     ]
    },
    {
     "name": "stderr",
     "output_type": "stream",
     "text": [
      "/home/soeren/.pyenv/versions/3.6.15/lib/python3.6/_collections_abc.py:743: MatplotlibDeprecationWarning:\n",
      "\n",
      "The global colormaps dictionary is no longer considered public API.\n",
      "\n",
      "/home/soeren/.pyenv/versions/3.6.15/lib/python3.6/_collections_abc.py:744: MatplotlibDeprecationWarning:\n",
      "\n",
      "The global colormaps dictionary is no longer considered public API.\n",
      "\n",
      "/home/soeren/.pyenv/versions/pde36/lib/python3.6/site-packages/phi/tf/flow.py:14: UserWarning:\n",
      "\n",
      "TensorFlow-CUDA solver is not available. To compile it, download phiflow sources and run\n",
      "$ python setup.py tf_cuda\n",
      "before reinstalling phiflow.\n",
      "\n"
     ]
    }
   ],
   "execution_count": 2
  },
  {
   "cell_type": "markdown",
   "metadata": {},
   "source": [
    "## Data Generation"
   ]
  },
  {
   "cell_type": "code",
   "metadata": {
    "ExecuteTime": {
     "end_time": "2025-06-26T12:49:08.353586Z",
     "start_time": "2025-06-26T12:49:08.349440Z"
    }
   },
   "source": [
    "domain = Domain([128], box=box[0:1])  # 1D Grid resolution and physical size\n",
    "viscosity = 0.003  # Viscosity constant for Burgers equation\n",
    "step_count = 32  # how many solver steps to perform\n",
    "dt = 0.03  # Time increment per solver step"
   ],
   "outputs": [],
   "execution_count": 3
  },
  {
   "cell_type": "markdown",
   "metadata": {},
   "source": [
    "Let's have a look at an example Burgers simulation with Gaussian forcing. The classes `BurgersVelocity` and `Burgers` are part of the Φ<sub>Flow</sub> library.\n",
    "\n",
    "*Hint: You can execute the cell below multiple times to get different results. Both `GaussianClash` and `GaussianForce` use random numbers internally.*"
   ]
  },
  {
   "cell_type": "code",
   "metadata": {
    "ExecuteTime": {
     "end_time": "2025-06-26T12:49:13.060465Z",
     "start_time": "2025-06-26T12:49:12.524884Z"
    }
   },
   "source": [
    "# --- Set up physics ---\n",
    "world = World()\n",
    "u0 = BurgersVelocity(domain, velocity=GaussianClash(1), viscosity=viscosity)\n",
    "u = world.add(u0, physics=Burgers(diffusion_substeps=4))\n",
    "force = world.add(FieldEffect(GaussianForce(1), ['velocity']))\n",
    "# --- Plot ---\n",
    "print('Force: %f at %f' % (force.field.amp[0], force.field.loc[0]))\n",
    "bplt.burgers_figure('Training data')\n",
    "plt.plot(u.velocity.data[0,:,0], color=bplt.gradient_color(0, step_count+1), linewidth=0.8)  # data[example, values, component]\n",
    "plt.legend(['Initial state in dark red, final state in dark blue.'])\n",
    "for frame in range(1, step_count + 1):\n",
    "    world.step(dt=dt)  # runs one simulation step\n",
    "    plt.plot(u.velocity.data[0,:,0], color=bplt.gradient_color(frame, step_count+1), linewidth=0.8)"
   ],
   "outputs": [
    {
     "name": "stdout",
     "output_type": "stream",
     "text": [
      "Force: 0.721318 at 0.402643\n"
     ]
    },
    {
     "data": {
      "text/plain": [
       "<Figure size 432x288 with 1 Axes>"
      ],
      "image/png": "[encoded data removed]"
     },
     "metadata": {
      "needs_background": "light"
     },
     "output_type": "display_data"
    }
   ],
   "execution_count": 4
  },
  {
   "cell_type": "markdown",
   "metadata": {},
   "source": [
    "Next, we define how many examples to generate and where to store them."
   ]
  },
  {
   "cell_type": "code",
   "metadata": {
    "ExecuteTime": {
     "end_time": "2025-06-26T12:49:17.008582Z",
     "start_time": "2025-06-26T12:49:17.006664Z"
    }
   },
   "source": [
    "data_path = 'forced-burgers-clash'\n",
    "scene_count = 1000  # how many examples to generate (training + validation + test)\n",
    "batch_size = 100  # How many examples to generate in parallel"
   ],
   "outputs": [],
   "execution_count": 5
  },
  {
   "cell_type": "markdown",
   "metadata": {},
   "source": [
    "The following cell will generate and store the data."
   ]
  },
  {
   "cell_type": "code",
   "metadata": {
    "scrolled": true,
    "ExecuteTime": {
     "end_time": "2025-06-26T12:49:41.201048Z",
     "start_time": "2025-06-26T12:49:20.229124Z"
    }
   },
   "source": [
    "for batch_index in range(scene_count // batch_size):\n",
    "    scene = Scene.create(data_path, count=batch_size)\n",
    "    print(scene)\n",
    "    world = World()\n",
    "    u0 = BurgersVelocity(domain, velocity=GaussianClash(batch_size), viscosity=viscosity, batch_size=batch_size, name='burgers')\n",
    "    u = world.add(u0, physics=Burgers(diffusion_substeps=4))\n",
    "    force = world.add(FieldEffect(GaussianForce(batch_size), ['velocity']))\n",
    "    scene.write(world.state, frame=0)\n",
    "    for frame in range(1, step_count + 1):\n",
    "        world.step(dt=dt)\n",
    "        scene.write(world.state, frame=frame)"
   ],
   "outputs": [
    {
     "name": "stderr",
     "output_type": "stream",
     "text": [
      "/home/soeren/.pyenv/versions/pde36/lib/python3.6/site-packages/phi/data/fluidformat.py:293: UserWarning:\n",
      "\n",
      "Failed to copy calling script to scene during Scene.create().\n",
      "Cause: [Errno 2] No such file or directory: '<ipython-input-6-ff3451c0a400>'\n",
      "\n"
     ]
    },
    {
     "name": "stdout",
     "output_type": "stream",
     "text": [
      "forced-burgers-clash/sim_000000\n",
      "forced-burgers-clash/sim_000100\n",
      "forced-burgers-clash/sim_000200\n",
      "forced-burgers-clash/sim_000300\n",
      "forced-burgers-clash/sim_000400\n",
      "forced-burgers-clash/sim_000500\n",
      "forced-burgers-clash/sim_000600\n",
      "forced-burgers-clash/sim_000700\n",
      "forced-burgers-clash/sim_000800\n",
      "forced-burgers-clash/sim_000900\n"
     ]
    }
   ],
   "execution_count": 6
  },
  {
   "cell_type": "markdown",
   "metadata": {},
   "source": [
    "To delete the generated data, uncomment and run the cell below."
   ]
  },
  {
   "metadata": {
    "ExecuteTime": {
     "end_time": "2025-06-26T19:19:53.256204Z",
     "start_time": "2025-06-26T19:19:52.888207Z"
    }
   },
   "cell_type": "code",
   "source": "for scene in Scene.list(data_path): scene.remove()",
   "outputs": [],
   "execution_count": 7
  },
  {
   "cell_type": "markdown",
   "metadata": {},
   "source": [
    "# Supervised Initialization"
   ]
  },
  {
   "cell_type": "markdown",
   "metadata": {},
   "source": [
    "We can use a supervised observation loss to initialize the observation prediction (OP) networks.\n",
    "This teaches them to reproduce the simulations from the training data."
   ]
  },
  {
   "cell_type": "code",
   "execution_count": null,
   "metadata": {},
   "outputs": [],
   "source": [
    "from control.pde.burgers import BurgersPDE\n",
    "from control.control_training import ControlTraining\n",
    "from control.sequences import StaggeredSequence, RefinedSequence"
   ]
  },
  {
   "cell_type": "markdown",
   "metadata": {},
   "source": [
    "Define what part of the data is used for training, validation and testing."
   ]
  },
  {
   "cell_type": "code",
   "execution_count": null,
   "metadata": {},
   "outputs": [],
   "source": [
    "test_range = range(100)\n",
    "val_range = range(100, 200)\n",
    "train_range = range(200, 1000)"
   ]
  },
  {
   "cell_type": "markdown",
   "metadata": {},
   "source": [
    "The following cell trains all OP$_n \\,\\, \\forall n\\in\\{2,4,8,16,32\\}$.\n",
    "The `ControlTraining` class is used to set up the optimization problem.\n",
    "\n",
    "The loss for the supervised initialization is defined as the observation loss at the center frame.\n",
    "\n",
    "$\\boldsymbol L_o^\\textrm{sup} = \\left|\\mathrm{OP}[o(t_i),o(t_j)] - u^\\textrm{GT}\\left(\\frac{t_i+t_j}{2}\\right)\\right|^2.$\n",
    "\n",
    "Consequently, no sequence needs to be simulated (`sequence_class=None`) and an observation loss is required at frame $\\frac n 2$ (`obs_loss_frames=[n // 2]`).\n",
    "The pretrained network checkpoints are stored in `supervised_checkpoints`.\n",
    "\n",
    "*Note: The next cell will run for some time. You can skip it and load the pretrained networks instead (see instructions below).*"
   ]
  },
  {
   "cell_type": "code",
   "execution_count": null,
   "metadata": {},
   "outputs": [],
   "source": [
    "supervised_checkpoints = {}\n",
    "\n",
    "for n in [2, 4, 8, 16, 32]:\n",
    "    app = ControlTraining(n,\n",
    "                          BurgersPDE(domain, viscosity, dt),\n",
    "                          datapath=data_path,\n",
    "                          val_range=val_range,\n",
    "                          train_range=train_range,\n",
    "                          trace_to_channel=lambda trace: 'burgers_velocity',\n",
    "                          obs_loss_frames=[n // 2],\n",
    "                          trainable_networks=['OP%d' % n],\n",
    "                          sequence_class=None,\n",
    "                          batch_size=100,\n",
    "                          view_size=20,\n",
    "                          learning_rate=1e-3,\n",
    "                          learning_rate_half_life=1000,\n",
    "                          dt=dt).prepare()\n",
    "    # show(app, force_launch=True)  # launches the Φ-Flow web interface\n",
    "    for i in range(3000):\n",
    "        app.progress()  # Run Optimization for one batch\n",
    "    supervised_checkpoints['OP%d' % n] = app.save_model()"
   ]
  },
  {
   "cell_type": "code",
   "execution_count": null,
   "metadata": {},
   "outputs": [],
   "source": [
    "supervised_checkpoints"
   ]
  },
  {
   "cell_type": "markdown",
   "metadata": {},
   "source": [
    "If you have already initialized the networks, you can simply copy the `supervised_checkpoints` by pasting the output above into the cell below."
   ]
  },
  {
   "cell_type": "code",
   "execution_count": null,
   "metadata": {},
   "outputs": [],
   "source": [
    "# supervised_checkpoints = "
   ]
  },
  {
   "cell_type": "markdown",
   "metadata": {},
   "source": [
    "Or load the pretrained networks that are included in the repository by uncommenting and running the cell below."
   ]
  },
  {
   "cell_type": "code",
   "execution_count": null,
   "metadata": {},
   "outputs": [],
   "source": [
    "# supervised_checkpoints = {'OP%d'%n: '../networks/burgers/supervised/OP%d_3000'%n for n in [2,4,8,16,32]}"
   ]
  },
  {
   "cell_type": "markdown",
   "metadata": {},
   "source": [
    "Note that we have not actually set up a simulation for the training. To evaluate the quality of our current solutions, we will use the `ControlTraining` class again but this time passing a `sequence_class`.\n",
    "With a sequence class, `ControlTraining` sets up the necessary physics steps and networks.\n",
    "Example sequence classes are `StaggeredSequence` and `RefinedSequence`."
   ]
  },
  {
   "cell_type": "code",
   "execution_count": null,
   "metadata": {
    "scrolled": true
   },
   "outputs": [],
   "source": [
    "supervised_staggered_app = ControlTraining(\n",
    "                            32,\n",
    "                            BurgersPDE(domain, viscosity, dt),\n",
    "                            datapath=data_path,\n",
    "                            val_range=val_range,\n",
    "                            train_range=train_range,\n",
    "                            trace_to_channel=lambda trace: 'burgers_velocity',\n",
    "                            obs_loss_frames=[],\n",
    "                            trainable_networks=[],\n",
    "                            sequence_class=StaggeredSequence,\n",
    "                            batch_size=100,\n",
    "                            view_size=20,\n",
    "                            learning_rate=1e-3,\n",
    "                            learning_rate_half_life=1000,\n",
    "                            dt=dt).prepare()\n",
    "supervised_staggered_app.load_checkpoints(supervised_checkpoints)"
   ]
  },
  {
   "cell_type": "markdown",
   "metadata": {},
   "source": [
    "We can have a look at the force required to exactly match the target in our test set.\n",
    "\n",
    "*Note:* The property `'Total Force'` is created by `BurgersPDE`."
   ]
  },
  {
   "cell_type": "code",
   "execution_count": null,
   "metadata": {},
   "outputs": [],
   "source": [
    "print('Total Force (supervised): %f' % supervised_staggered_app.infer_scalars(test_range)['Total Force'])"
   ]
  },
  {
   "cell_type": "markdown",
   "metadata": {},
   "source": [
    "Let's have a look at some of the reconstructed sequences. Change the `test_range` indices to look at different examples."
   ]
  },
  {
   "cell_type": "code",
   "execution_count": null,
   "metadata": {},
   "outputs": [],
   "source": [
    "states = supervised_staggered_app.infer_all_frames(test_range[0:1])\n",
    "bplt.burgers_figure('Supervised')\n",
    "for frame in range(0, step_count + 1):\n",
    "    plt.plot(states[frame].burgers.velocity.data[0,:,0], color=bplt.gradient_color(frame, step_count+1), linewidth=0.8)"
   ]
  },
  {
   "cell_type": "markdown",
   "metadata": {},
   "source": [
    "# End-to-end Training with Differentiable Physics"
   ]
  },
  {
   "cell_type": "markdown",
   "metadata": {},
   "source": [
    "To initiale training with the differentiable physics loss, we create a new `ControlTraining` instance with the staggered execution scheme.\n",
    "\n",
    "The following cell trains all OP networks jointly to minimize the force (see the `trainable_networks` parameter). You can increase the number of optimization steps or execute the next cell multiple times to further increase performance.\n",
    "\n",
    "*Note: The next cell will run for some time. You can skip the next two cells and load the pretrained networks instead.*"
   ]
  },
  {
   "cell_type": "code",
   "execution_count": null,
   "metadata": {},
   "outputs": [],
   "source": [
    "staggered_app = ControlTraining(\n",
    "                            32,\n",
    "                            BurgersPDE(domain, viscosity, dt),\n",
    "                            datapath=data_path,\n",
    "                            val_range=val_range,\n",
    "                            train_range=train_range,\n",
    "                            trace_to_channel=lambda trace: 'burgers_velocity',\n",
    "                            obs_loss_frames=[],\n",
    "                            trainable_networks=['OP%d' % n for n in [2,4,8,16,32]],\n",
    "                            sequence_class=StaggeredSequence,\n",
    "                            batch_size=100,\n",
    "                            view_size=20,\n",
    "                            learning_rate=1e-3,\n",
    "                            learning_rate_half_life=1000,\n",
    "                            dt=dt).prepare()"
   ]
  },
  {
   "cell_type": "code",
   "execution_count": null,
   "metadata": {
    "scrolled": true
   },
   "outputs": [],
   "source": [
    "for i in range(3000):\n",
    "    staggered_app.progress()"
   ]
  },
  {
   "cell_type": "code",
   "execution_count": null,
   "metadata": {},
   "outputs": [],
   "source": [
    "staggered_checkpoint = staggered_app.save_model()\n",
    "staggered_checkpoint"
   ]
  },
  {
   "cell_type": "markdown",
   "metadata": {},
   "source": [
    "To load the pretrained networks included in this repository, uncomment and execute the cell below."
   ]
  },
  {
   "cell_type": "code",
   "execution_count": null,
   "metadata": {},
   "outputs": [],
   "source": [
    "#staggered_app.load_checkpoints({'OP%d'%n: '../networks/burgers/staggered/OPn_18000' for n in [2,4,8,16,32]})"
   ]
  },
  {
   "cell_type": "markdown",
   "metadata": {},
   "source": [
    "Let's evaluate the performance of our networks after end-to-end training."
   ]
  },
  {
   "cell_type": "code",
   "execution_count": null,
   "metadata": {},
   "outputs": [],
   "source": [
    "print('Total Force (diff. phys. / staggered): %f' % staggered_app.infer_scalars(test_range)['Total Force'])\n",
    "states = staggered_app.infer_all_frames(test_range[0:1])\n",
    "bplt.burgers_figure('Staggered execution')\n",
    "for frame in range(0, step_count + 1):\n",
    "    plt.plot(states[frame].burgers.velocity.data[0,:,0], color=bplt.gradient_color(frame, step_count+1), linewidth=0.8)"
   ]
  },
  {
   "cell_type": "markdown",
   "metadata": {},
   "source": [
    "To evaluate our models using the prediction refinement scheme, we repeat the above steps but using a `RefinedSequence` instead of a `StaggeredSequence`."
   ]
  },
  {
   "cell_type": "code",
   "execution_count": null,
   "metadata": {
    "scrolled": true
   },
   "outputs": [],
   "source": [
    "refined_app = ControlTraining(step_count,\n",
    "                      BurgersPDE(domain, viscosity, dt),\n",
    "                      datapath=data_path,\n",
    "                      val_range=val_range,\n",
    "                      train_range=train_range,\n",
    "                      trace_to_channel=lambda trace: 'burgers_velocity',\n",
    "                      obs_loss_frames=[],\n",
    "                      trainable_networks=['OP%d' % n for n in [2,4,8,16,32]],\n",
    "                      sequence_class=RefinedSequence,\n",
    "                      batch_size=100,\n",
    "                      view_size=20,\n",
    "                      learning_rate=1e-3,\n",
    "                      learning_rate_half_life=1000,\n",
    "                      dt=dt).prepare()"
   ]
  },
  {
   "cell_type": "markdown",
   "metadata": {},
   "source": [
    "To load the weights we just trained, run the cell below.\n",
    "\n",
    "To load the pretrained weights, skip the next cell and uncomment and run the one after that."
   ]
  },
  {
   "cell_type": "code",
   "execution_count": null,
   "metadata": {},
   "outputs": [],
   "source": [
    "refined_app.load_checkpoints({'OP%d' % n: staggered_checkpoint for n in [2,4,8,16,32]})"
   ]
  },
  {
   "cell_type": "code",
   "execution_count": null,
   "metadata": {},
   "outputs": [],
   "source": [
    "#refined_app.load_checkpoints({'OP%d'%n: '../networks/burgers/staggered/OPn_18000' for n in [2,4,8,16,32]})"
   ]
  },
  {
   "cell_type": "markdown",
   "metadata": {},
   "source": [
    "We could still refine training at this point by repeatedly calling `refined_app.progress()`.\n",
    "Here, we show that the prediction refinement scheme beats the staggered execution, despite not being trained with that architecture."
   ]
  },
  {
   "cell_type": "code",
   "execution_count": null,
   "metadata": {},
   "outputs": [],
   "source": [
    "print('Total Force (diff. phys. / refined): %f' % refined_app.infer_scalars(test_range)['Total Force'])\n",
    "states = refined_app.infer_all_frames(test_range[0:1])\n",
    "bplt.burgers_figure('Prediction refinement')\n",
    "for frame in range(0, step_count + 1):\n",
    "    plt.plot(states[frame].burgers.velocity.data[0,:,0], color=bplt.gradient_color(frame, step_count+1), linewidth=0.8)"
   ]
  }
 ],
 "metadata": {
  "kernelspec": {
   "display_name": "Python 3 (ipykernel)",
   "language": "python",
   "name": "python3"
  },
  "language_info": {
   "codemirror_mode": {
    "name": "ipython",
    "version": 3
   },
   "file_extension": ".py",
   "mimetype": "text/x-python",
   "name": "python",
   "nbconvert_exporter": "python",
   "pygments_lexer": "ipython3",
   "version": "3.12.3"
  }
 },
 "nbformat": 4,
 "nbformat_minor": 4
}
