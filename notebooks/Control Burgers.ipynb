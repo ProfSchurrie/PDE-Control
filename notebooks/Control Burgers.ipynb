{
 "cells": [
  {
   "cell_type": "markdown",
   "metadata": {},
   "source": [
    "# Learning to Control Burgers Equation with Differentiable Physics\n",
    "This notebook will walk you through data generation, supervised network initialization and end-to-end training using our differentiable PDE solver, [Φ<sub>Flow</sub>](https://github.com/tum-pbs/PhiFlow).\n",
    "\n",
    "The code below replicates experiment 1 from the ICLR 2020 paper [Learning to Control PDEs with Differentiable Physics](https://ge.in.tum.de/publications/2020-iclr-holl/). The original experiment was performed on an older version of the solver. The corresponding code can be found under `/legacy` but is more difficult to understand and not as well documented."
   ]
  },
  {
   "cell_type": "code",
   "execution_count": null,
   "metadata": {},
   "outputs": [],
   "source": [
    "import sys; sys.path.append('../PhiFlow'); sys.path.append('../src')\n",
    "from control.pde.burgers import GaussianClash, GaussianForce\n",
    "import burgers_plots as bplt\n",
    "import matplotlib.pyplot as plt\n",
    "from phi.flow import *"
   ]
  },
  {
   "cell_type": "markdown",
   "metadata": {},
   "source": [
    "## Data Generation"
   ]
  },
  {
   "cell_type": "code",
   "execution_count": null,
   "metadata": {},
   "outputs": [],
   "source": [
    "domain = Domain([128], box=box[0:1])  # 1D Grid resolution and physical size\n",
    "viscosity = 0.003  # Viscosity constant for Burgers equation\n",
    "step_count = 32  # how many solver steps to perform\n",
    "dt = 0.03  # Time increment per solver step"
   ]
  },
  {
   "cell_type": "markdown",
   "metadata": {},
   "source": [
    "Let's have a look at an example Burgers simulation with Gaussian forcing. The classes `BurgersVelocity` and `Burgers` are part of the Φ<sub>Flow</sub> library.\n",
    "\n",
    "*Hint: You can execute the cell below multiple times to get different results. Both `GaussianClash` and `GaussianForce` use random numbers internally.*"
   ]
  },
  {
   "cell_type": "code",
   "execution_count": null,
   "metadata": {},
   "outputs": [],
   "source": [
    "# --- Set up physics ---\n",
    "world = World()\n",
    "u0 = BurgersVelocity(domain, velocity=GaussianClash(1), viscosity=viscosity)\n",
    "u = world.add(u0, physics=Burgers(diffusion_substeps=4))\n",
    "force = world.add(FieldEffect(GaussianForce(1), ['velocity']))\n",
    "# --- Plot ---\n",
    "print('Force: %f at %f' % (force.field.amp[0], force.field.loc[0]))\n",
    "bplt.burgers_figure('Training data')\n",
    "plt.plot(u.velocity.data[0,:,0], color=bplt.gradient_color(0, step_count+1), linewidth=0.8)  # data[example, values, component]\n",
    "plt.legend(['Initial state in dark red, final state in dark blue.'])\n",
    "for frame in range(1, step_count + 1):\n",
    "    world.step(dt=dt)  # runs one simulation step\n",
    "    plt.plot(u.velocity.data[0,:,0], color=bplt.gradient_color(frame, step_count+1), linewidth=0.8)"
   ]
  },
  {
   "cell_type": "markdown",
   "metadata": {},
   "source": [
    "Next, we define how many examples to generate and where to store them."
   ]
  },
  {
   "cell_type": "code",
   "execution_count": null,
   "metadata": {},
   "outputs": [],
   "source": [
    "data_path = '~/phi/data/control/forced-burgers-clash'\n",
    "scene_count = 1000  # how many examples to generate (training + validation + test)\n",
    "batch_size = 100  # How many examples to generate in parallel"
   ]
  },
  {
   "cell_type": "markdown",
   "metadata": {},
   "source": [
    "The following cell will generate and store the data."
   ]
  },
  {
   "cell_type": "code",
   "execution_count": null,
   "metadata": {
    "scrolled": true
   },
   "outputs": [],
   "source": [
    "for batch_index in range(scene_count // batch_size):\n",
    "    scene = Scene.create(data_path, count=batch_size)\n",
    "    print(scene)\n",
    "    world = World()\n",
    "    u0 = BurgersVelocity(domain, velocity=GaussianClash(batch_size), viscosity=viscosity, batch_size=batch_size, name='burgers')\n",
    "    u = world.add(u0, physics=Burgers(diffusion_substeps=4))\n",
    "    force = world.add(FieldEffect(GaussianForce(batch_size), ['velocity']))\n",
    "    scene.write(world.state, frame=0)\n",
    "    for frame in range(1, step_count + 1):\n",
    "        world.step(dt=dt)\n",
    "        scene.write(world.state, frame=frame)"
   ]
  },
  {
   "cell_type": "markdown",
   "metadata": {},
   "source": [
    "To delete the generated data, uncomment and run the cell below."
   ]
  },
  {
   "cell_type": "code",
   "execution_count": null,
   "metadata": {},
   "outputs": [],
   "source": [
    "#for scene in Scene.list(data_path): scene.remove()"
   ]
  },
  {
   "cell_type": "markdown",
   "metadata": {},
   "source": [
    "# Supervised Initialization"
   ]
  },
  {
   "cell_type": "markdown",
   "metadata": {},
   "source": [
    "We can use a supervised observation loss to initialize the observation prediction (OP) networks.\n",
    "This teaches them to reproduce the simulations from the training data."
   ]
  },
  {
   "cell_type": "code",
   "execution_count": null,
   "metadata": {},
   "outputs": [],
   "source": [
    "from control.pde.burgers import BurgersPDE\n",
    "from control.control_training import ControlTraining\n",
    "from control.sequences import StaggeredSequence, RefinedSequence"
   ]
  },
  {
   "cell_type": "markdown",
   "metadata": {},
   "source": [
    "Define what part of the data is used for training, validation and testing."
   ]
  },
  {
   "cell_type": "code",
   "execution_count": null,
   "metadata": {},
   "outputs": [],
   "source": [
    "test_range = range(100)\n",
    "val_range = range(100, 200)\n",
    "train_range = range(200, 1000)"
   ]
  },
  {
   "cell_type": "markdown",
   "metadata": {},
   "source": [
    "The following cell trains all OP$_n \\,\\, \\forall n\\in\\{2,4,8,16,32\\}$.\n",
    "The `ControlTraining` class is used to set up the optimization problem.\n",
    "\n",
    "The loss for the supervised initialization is defined as the observation loss at the center frame.\n",
    "\n",
    "$\\boldsymbol L_o^\\textrm{sup} = \\left|\\mathrm{OP}[o(t_i),o(t_j)] - u^\\textrm{GT}\\left(\\frac{t_i+t_j}{2}\\right)\\right|^2.$\n",
    "\n",
    "Consequently, no sequence needs to be simulated (`sequence_class=None`) and an observation loss is required at frame $\\frac n 2$ (`obs_loss_frames=[n // 2]`).\n",
    "The pretrained network checkpoints are stored in `checkpoint_dict`.\n",
    "\n",
    "*Note: The next cell will run for some time. You can skip it and load the pretrained networks instead (see instructions below).*"
   ]
  },
  {
   "cell_type": "code",
   "execution_count": null,
   "metadata": {},
   "outputs": [],
   "source": [
    "import tensorflow as tf; tf.reset_default_graph()\n",
    "\n",
    "checkpoint_dict = {}\n",
    "\n",
    "for n in [2, 4, 8, 16, 32]:\n",
    "    app = ControlTraining(n,\n",
    "                          BurgersPDE(domain, viscosity, dt),\n",
    "                          datapath=data_path,\n",
    "                          val_range=val_range,\n",
    "                          train_range=train_range,\n",
    "                          trace_to_channel=lambda trace: 'burgers_velocity',\n",
    "                          obs_loss_frames=[n // 2],\n",
    "                          trainable_networks=['OP%d' % n],\n",
    "                          sequence_class=None,\n",
    "                          batch_size=100,\n",
    "                          view_size=20,\n",
    "                          learning_rate=1e-3,\n",
    "                          learning_rate_half_life=1000,\n",
    "                          dt=dt).prepare()\n",
    "    # show(app)  # launches the Φ-Flow web interface\n",
    "    for i in range(3000):\n",
    "        app.progress()  # Run Optimization for one batch\n",
    "    checkpoint_dict['OP%d' % n] = app.save_model()"
   ]
  },
  {
   "cell_type": "code",
   "execution_count": null,
   "metadata": {},
   "outputs": [],
   "source": [
    "checkpoint_dict"
   ]
  },
  {
   "cell_type": "markdown",
   "metadata": {},
   "source": [
    "If you have already initialized the networks, you can simply copy the `checkpoint_dict` by pasting the output above into the cell below."
   ]
  },
  {
   "cell_type": "code",
   "execution_count": null,
   "metadata": {},
   "outputs": [],
   "source": [
    "#checkpoint_dict = "
   ]
  },
  {
   "cell_type": "markdown",
   "metadata": {},
   "source": [
    "Or load the pretrained networks that are included in the repository by uncommenting and running the cell below."
   ]
  },
  {
   "cell_type": "code",
   "execution_count": 20,
   "metadata": {},
   "outputs": [],
   "source": [
    "#checkpoint_dict = {'OP%d'%n: '../networks/burgers/supervised/OP%d_3000'%n for n in [2,4,8,16,32]}"
   ]
  },
  {
   "cell_type": "markdown",
   "metadata": {},
   "source": [
    "Note that we have not actually set up a simulation for the training. To evaluate the quality of our current solutions, we will use the `ControlTraining` class again but this time passing a `sequence_class`.\n",
    "With a sequence class, `ControlTraining` sets up the necessary physics steps and networks.\n",
    "Example sequence classes are `StaggeredSequence` and `RefinedSequence`."
   ]
  },
  {
   "cell_type": "code",
   "execution_count": 21,
   "metadata": {},
   "outputs": [],
   "source": [
    "step_count = 32"
   ]
  },
  {
   "cell_type": "code",
   "execution_count": 22,
   "metadata": {
    "scrolled": true
   },
   "outputs": [
    {
     "name": "stdout",
     "output_type": "stream",
     "text": [
      "App created. Scene directory is C:\\Users\\Philipp/phi/model/control-training\\sim_000101 (INFO), 2020-02-02 16:03:15,000n\n",
      "\n",
      "Sequence class: <class 'control.sequences.StaggeredSequence'> (INFO), 2020-02-02 16:03:15,003n\n",
      "\n",
      "Partition length 32 sequence (from 0 to 32) at frame 16\n",
      "Partition length 16 sequence (from 0 to 16) at frame 8\n",
      "Partition length 8 sequence (from 0 to 8) at frame 4\n",
      "Partition length 4 sequence (from 0 to 4) at frame 2\n",
      "Partition length 2 sequence (from 0 to 2) at frame 1\n",
      "Execute -> 1\n",
      "Execute -> 2\n",
      "Partition length 2 sequence (from 2 to 4) at frame 3\n",
      "Execute -> 3\n",
      "Execute -> 4\n",
      "Partition length 4 sequence (from 4 to 8) at frame 6\n",
      "Partition length 2 sequence (from 4 to 6) at frame 5\n",
      "Execute -> 5\n",
      "Execute -> 6\n",
      "Partition length 2 sequence (from 6 to 8) at frame 7\n",
      "Execute -> 7\n",
      "Execute -> 8\n",
      "Partition length 8 sequence (from 8 to 16) at frame 12\n",
      "Partition length 4 sequence (from 8 to 12) at frame 10\n",
      "Partition length 2 sequence (from 8 to 10) at frame 9\n",
      "Execute -> 9\n",
      "Execute -> 10\n",
      "Partition length 2 sequence (from 10 to 12) at frame 11\n",
      "Execute -> 11\n",
      "Execute -> 12\n",
      "Partition length 4 sequence (from 12 to 16) at frame 14\n",
      "Partition length 2 sequence (from 12 to 14) at frame 13\n",
      "Execute -> 13\n",
      "Execute -> 14\n",
      "Partition length 2 sequence (from 14 to 16) at frame 15\n",
      "Execute -> 15\n",
      "Execute -> 16\n",
      "Partition length 16 sequence (from 16 to 32) at frame 24\n",
      "Partition length 8 sequence (from 16 to 24) at frame 20\n",
      "Partition length 4 sequence (from 16 to 20) at frame 18\n",
      "Partition length 2 sequence (from 16 to 18) at frame 17\n",
      "Execute -> 17\n",
      "Execute -> 18\n",
      "Partition length 2 sequence (from 18 to 20) at frame 19\n",
      "Execute -> 19\n",
      "Execute -> 20\n",
      "Partition length 4 sequence (from 20 to 24) at frame 22\n",
      "Partition length 2 sequence (from 20 to 22) at frame 21\n",
      "Execute -> 21\n",
      "Execute -> 22\n",
      "Partition length 2 sequence (from 22 to 24) at frame 23\n",
      "Execute -> 23\n",
      "Execute -> 24\n",
      "Partition length 8 sequence (from 24 to 32) at frame 28\n",
      "Partition length 4 sequence (from 24 to 28) at frame 26\n",
      "Partition length 2 sequence (from 24 to 26) at frame 25\n",
      "Execute -> 25\n",
      "Execute -> 26\n",
      "Partition length 2 sequence (from 26 to 28) at frame 27\n",
      "Execute -> 27\n",
      "Execute -> 28\n",
      "Partition length 4 sequence (from 28 to 32) at frame 30\n",
      "Partition length 2 sequence (from 28 to 30) at frame 29\n",
      "Execute -> 29\n",
      "Execute -> 30\n",
      "Partition length 2 sequence (from 30 to 32) at frame 31\n",
      "Execute -> 31\n",
      "Execute -> 32\n",
      "Target loss: Tensor(\"truediv_1:0\", shape=(), dtype=float32) (INFO), 2020-02-02 16:03:26,539n\n",
      "\n",
      "Force loss: Tensor(\"Sum_97:0\", shape=(), dtype=float32) (INFO), 2020-02-02 16:03:27,566n\n",
      "\n",
      "Setting up loss (INFO), 2020-02-02 16:03:27,568n\n",
      "\n",
      "Preparing data (INFO), 2020-02-02 16:03:55,501n\n",
      "\n",
      "INFO:tensorflow:Summary name Total Force is illegal; using Total_Force instead.\n"
     ]
    },
    {
     "name": "stderr",
     "output_type": "stream",
     "text": [
      "INFO:tensorflow:Summary name Total Force is illegal; using Total_Force instead.\n"
     ]
    },
    {
     "name": "stdout",
     "output_type": "stream",
     "text": [
      "Initializing variables (INFO), 2020-02-02 16:03:55,529n\n",
      "\n",
      "Model variables contain 0 total parameters. (INFO), 2020-02-02 16:04:02,039n\n",
      "\n",
      "Performing initial validation (INFO), 2020-02-02 16:04:02,040n\n",
      "\n",
      "Validation (000000): Learning_Rate: 0.001, Loss_reg_unscaled: 948.24243, Loss_reg_scale: 1.0, Loss: 0.0, Total Force: 1742.8938 (INFO), 2020-02-02 16:04:27,040n\n",
      "\n",
      "Loading OP2 from ../networks/burgers/supervised/OP2_3000... (INFO), 2020-02-02 16:04:27,042n\n",
      "\n",
      "INFO:tensorflow:Restoring parameters from ../networks/burgers/supervised/OP2_3000\\model.ckpt\n"
     ]
    },
    {
     "name": "stderr",
     "output_type": "stream",
     "text": [
      "INFO:tensorflow:Restoring parameters from ../networks/burgers/supervised/OP2_3000\\model.ckpt\n"
     ]
    },
    {
     "name": "stdout",
     "output_type": "stream",
     "text": [
      "Loading OP4 from ../networks/burgers/supervised/OP4_3000... (INFO), 2020-02-02 16:04:29,947n\n",
      "\n",
      "INFO:tensorflow:Restoring parameters from ../networks/burgers/supervised/OP4_3000\\model.ckpt\n"
     ]
    },
    {
     "name": "stderr",
     "output_type": "stream",
     "text": [
      "INFO:tensorflow:Restoring parameters from ../networks/burgers/supervised/OP4_3000\\model.ckpt\n"
     ]
    },
    {
     "name": "stdout",
     "output_type": "stream",
     "text": [
      "Loading OP8 from ../networks/burgers/supervised/OP8_3000... (INFO), 2020-02-02 16:04:32,858n\n",
      "\n",
      "INFO:tensorflow:Restoring parameters from ../networks/burgers/supervised/OP8_3000\\model.ckpt\n"
     ]
    },
    {
     "name": "stderr",
     "output_type": "stream",
     "text": [
      "INFO:tensorflow:Restoring parameters from ../networks/burgers/supervised/OP8_3000\\model.ckpt\n"
     ]
    },
    {
     "name": "stdout",
     "output_type": "stream",
     "text": [
      "Loading OP16 from ../networks/burgers/supervised/OP16_3000... (INFO), 2020-02-02 16:04:35,785n\n",
      "\n",
      "INFO:tensorflow:Restoring parameters from ../networks/burgers/supervised/OP16_3000\\model.ckpt\n"
     ]
    },
    {
     "name": "stderr",
     "output_type": "stream",
     "text": [
      "INFO:tensorflow:Restoring parameters from ../networks/burgers/supervised/OP16_3000\\model.ckpt\n"
     ]
    },
    {
     "name": "stdout",
     "output_type": "stream",
     "text": [
      "Loading OP32 from ../networks/burgers/supervised/OP32_3000... (INFO), 2020-02-02 16:04:38,731n\n",
      "\n",
      "INFO:tensorflow:Restoring parameters from ../networks/burgers/supervised/OP32_3000\\model.ckpt\n"
     ]
    },
    {
     "name": "stderr",
     "output_type": "stream",
     "text": [
      "INFO:tensorflow:Restoring parameters from ../networks/burgers/supervised/OP32_3000\\model.ckpt\n"
     ]
    }
   ],
   "source": [
    "import tensorflow as tf; tf.reset_default_graph()\n",
    "\n",
    "staggered_app = ControlTraining(step_count,\n",
    "                      BurgersPDE(domain, viscosity, dt),\n",
    "                      datapath=data_path,\n",
    "                      val_range=val_range,\n",
    "                      train_range=train_range,\n",
    "                      trace_to_channel=lambda trace: 'burgers_velocity',\n",
    "                      obs_loss_frames=[],\n",
    "                      trainable_networks=['OP%d' % n for n in [2,4,8,16,32]],\n",
    "                      sequence_class=StaggeredSequence,\n",
    "                      batch_size=100,\n",
    "                      view_size=20,\n",
    "                      learning_rate=1e-3,\n",
    "                      learning_rate_half_life=1000,\n",
    "                      dt=dt).prepare()\n",
    "staggered_app.load_checkpoints(checkpoint_dict)"
   ]
  },
  {
   "cell_type": "markdown",
   "metadata": {},
   "source": [
    "We can have a look at the force required to exactly match the target in our test set.\n",
    "\n",
    "*Note:* The property `'Total Force'` is created by `BurgersPDE`."
   ]
  },
  {
   "cell_type": "code",
   "execution_count": 23,
   "metadata": {},
   "outputs": [
    {
     "name": "stdout",
     "output_type": "stream",
     "text": [
      "Total Force (supervised): 100.640335\n"
     ]
    }
   ],
   "source": [
    "print('Total Force (supervised): %f' % staggered_app.infer_scalars(test_range)['Total Force'])"
   ]
  },
  {
   "cell_type": "markdown",
   "metadata": {},
   "source": [
    "Let's have a look at some of the reconstructed sequences. Change the `test_range` indices to look at different examples."
   ]
  },
  {
   "cell_type": "code",
   "execution_count": 24,
   "metadata": {},
   "outputs": [
    {
     "data": {
      "image/png": "[encoded data removed]",
      "text/plain": [
       "<Figure size 432x288 with 1 Axes>"
      ]
     },
     "metadata": {},
     "output_type": "display_data"
    }
   ],
   "source": [
    "states = staggered_app.infer_all_frames(test_range[0:1])\n",
    "bplt.burgers_figure('Supervised')\n",
    "for frame in range(0, step_count + 1):\n",
    "    plt.plot(states[frame].burgers.velocity.data[0,:,0], color=bplt.gradient_color(frame, step_count+1), linewidth=0.8)"
   ]
  },
  {
   "cell_type": "markdown",
   "metadata": {},
   "source": [
    "# End-to-end Training with Differentiable Physics"
   ]
  },
  {
   "cell_type": "markdown",
   "metadata": {},
   "source": [
    "To evaluate the supervised initialization, we have already set up all the physics we need to train the networks end-to-end.\n",
    "\n",
    "The following cell trains all OP networks jointly to minimize the force. You can increase the number of optimization steps or execute the next cell multiple times to further increase performance.\n",
    "\n",
    "*Note: The next cell will run for some time. You can skip the next two cells and load the pretrained networks instead.*"
   ]
  },
  {
   "cell_type": "code",
   "execution_count": null,
   "metadata": {
    "scrolled": true
   },
   "outputs": [
    {
     "name": "stdout",
     "output_type": "stream",
     "text": [
      "Optimization (000000): Learning_Rate: 0.001, Loss_reg_unscaled: 4.8942814, Loss_reg_scale: 1.0, Loss: 0.0, Total Force: 102.68169 (INFO), 2020-02-02 16:06:05,146n\n",
      "\n",
      "Validation (000000): Learning_Rate: 0.001, Loss_reg_unscaled: 10.541697, Loss_reg_scale: 1.0, Loss: 0.0, Total Force: 205.58574 (INFO), 2020-02-02 16:06:17,238n\n",
      "\n",
      "Optimization (000050): Learning_Rate: 0.00096593634, Loss_reg_unscaled: 3.3294249, Loss_reg_scale: 1.0, Loss: 0.0, Total Force: 95.06436 (INFO), 2020-02-02 16:14:19,334n\n",
      "\n",
      "Validation (000050): Learning_Rate: 0.00096593634, Loss_reg_unscaled: 3.210865, Loss_reg_scale: 1.0, Loss: 0.0, Total Force: 93.42154 (INFO), 2020-02-02 16:14:29,564n\n",
      "\n",
      "Optimization (000100): Learning_Rate: 0.000933033, Loss_reg_unscaled: 2.3341746, Loss_reg_scale: 1.0, Loss: 0.0, Total Force: 81.5249 (INFO), 2020-02-02 16:22:51,489n\n",
      "\n",
      "Validation (000100): Learning_Rate: 0.000933033, Loss_reg_unscaled: 2.47791, Loss_reg_scale: 1.0, Loss: 0.0, Total Force: 84.072464 (INFO), 2020-02-02 16:23:02,039n\n",
      "\n",
      "Optimization (000150): Learning_Rate: 0.00090125046, Loss_reg_unscaled: 2.3892617, Loss_reg_scale: 1.0, Loss: 0.0, Total Force: 85.23808 (INFO), 2020-02-02 16:31:28,796n\n",
      "\n",
      "Validation (000150): Learning_Rate: 0.00090125046, Loss_reg_unscaled: 2.2428966, Loss_reg_scale: 1.0, Loss: 0.0, Total Force: 81.186745 (INFO), 2020-02-02 16:31:40,364n\n",
      "\n",
      "Optimization (000200): Learning_Rate: 0.0008705506, Loss_reg_unscaled: 1.9497703, Loss_reg_scale: 1.0, Loss: 0.0, Total Force: 78.50502 (INFO), 2020-02-02 16:40:11,727n\n",
      "\n",
      "Validation (000200): Learning_Rate: 0.0008705506, Loss_reg_unscaled: 2.0943666, Loss_reg_scale: 1.0, Loss: 0.0, Total Force: 78.932816 (INFO), 2020-02-02 16:40:22,374n\n",
      "\n",
      "Optimization (000250): Learning_Rate: 0.0008408964, Loss_reg_unscaled: 2.0137568, Loss_reg_scale: 1.0, Loss: 0.0, Total Force: 78.89972 (INFO), 2020-02-02 16:49:38,641n\n",
      "\n",
      "Validation (000250): Learning_Rate: 0.0008408964, Loss_reg_unscaled: 1.9676003, Loss_reg_scale: 1.0, Loss: 0.0, Total Force: 77.234344 (INFO), 2020-02-02 16:49:49,982n\n",
      "\n",
      "Optimization (000300): Learning_Rate: 0.0008122524, Loss_reg_unscaled: 1.7310634, Loss_reg_scale: 1.0, Loss: 0.0, Total Force: 72.680244 (INFO), 2020-02-02 16:59:11,342n\n",
      "\n",
      "Validation (000300): Learning_Rate: 0.0008122524, Loss_reg_unscaled: 1.8917122, Loss_reg_scale: 1.0, Loss: 0.0, Total Force: 75.96918 (INFO), 2020-02-02 16:59:21,903n\n",
      "\n",
      "Optimization (000350): Learning_Rate: 0.0007845841, Loss_reg_unscaled: 1.9181521, Loss_reg_scale: 1.0, Loss: 0.0, Total Force: 79.0034 (INFO), 2020-02-02 17:08:06,043n\n",
      "\n",
      "Validation (000350): Learning_Rate: 0.0007845841, Loss_reg_unscaled: 1.7919338, Loss_reg_scale: 1.0, Loss: 0.0, Total Force: 74.29374 (INFO), 2020-02-02 17:08:16,565n\n",
      "\n",
      "Optimization (000400): Learning_Rate: 0.0007578583, Loss_reg_unscaled: 1.6393664, Loss_reg_scale: 1.0, Loss: 0.0, Total Force: 73.668625 (INFO), 2020-02-02 17:17:00,851n\n",
      "\n",
      "Validation (000400): Learning_Rate: 0.0007578583, Loss_reg_unscaled: 1.7421739, Loss_reg_scale: 1.0, Loss: 0.0, Total Force: 73.81369 (INFO), 2020-02-02 17:17:11,313n\n",
      "\n",
      "Optimization (000450): Learning_Rate: 0.0007320428, Loss_reg_unscaled: 1.7578299, Loss_reg_scale: 1.0, Loss: 0.0, Total Force: 75.21618 (INFO), 2020-02-02 17:26:11,425n\n",
      "\n",
      "Validation (000450): Learning_Rate: 0.0007320428, Loss_reg_unscaled: 1.7067702, Loss_reg_scale: 1.0, Loss: 0.0, Total Force: 73.00236 (INFO), 2020-02-02 17:26:22,770n\n",
      "\n",
      "Optimization (000500): Learning_Rate: 0.0007071068, Loss_reg_unscaled: 1.6193262, Loss_reg_scale: 1.0, Loss: 0.0, Total Force: 71.6897 (INFO), 2020-02-02 17:35:38,647n\n",
      "\n",
      "Validation (000500): Learning_Rate: 0.0007071068, Loss_reg_unscaled: 1.7842277, Loss_reg_scale: 1.0, Loss: 0.0, Total Force: 75.828415 (INFO), 2020-02-02 17:35:49,706n\n",
      "\n",
      "Optimization (000550): Learning_Rate: 0.0006830201, Loss_reg_unscaled: 1.6890215, Loss_reg_scale: 1.0, Loss: 0.0, Total Force: 75.17067 (INFO), 2020-02-02 17:45:06,457n\n",
      "\n",
      "Validation (000550): Learning_Rate: 0.0006830201, Loss_reg_unscaled: 1.7211248, Loss_reg_scale: 1.0, Loss: 0.0, Total Force: 73.372345 (INFO), 2020-02-02 17:45:17,708n\n",
      "\n",
      "Optimization (000600): Learning_Rate: 0.000659754, Loss_reg_unscaled: 1.4850577, Loss_reg_scale: 1.0, Loss: 0.0, Total Force: 70.89974 (INFO), 2020-02-02 17:54:34,995n\n",
      "\n",
      "Validation (000600): Learning_Rate: 0.000659754, Loss_reg_unscaled: 1.6604939, Loss_reg_scale: 1.0, Loss: 0.0, Total Force: 72.956566 (INFO), 2020-02-02 17:54:46,122n\n",
      "\n",
      "Optimization (000650): Learning_Rate: 0.0006372803, Loss_reg_unscaled: 1.5968115, Loss_reg_scale: 1.0, Loss: 0.0, Total Force: 72.27399 (INFO), 2020-02-02 18:04:04,464n\n",
      "\n",
      "Validation (000650): Learning_Rate: 0.0006372803, Loss_reg_unscaled: 1.5953332, Loss_reg_scale: 1.0, Loss: 0.0, Total Force: 71.79469 (INFO), 2020-02-02 18:04:15,522n\n",
      "\n",
      "Optimization (000700): Learning_Rate: 0.0006155722, Loss_reg_unscaled: 1.3688745, Loss_reg_scale: 1.0, Loss: 0.0, Total Force: 66.70245 (INFO), 2020-02-02 18:13:32,274n\n",
      "\n",
      "Validation (000700): Learning_Rate: 0.0006155722, Loss_reg_unscaled: 1.5351987, Loss_reg_scale: 1.0, Loss: 0.0, Total Force: 70.35939 (INFO), 2020-02-02 18:13:43,454n\n",
      "\n",
      "Optimization (000750): Learning_Rate: 0.00059460354, Loss_reg_unscaled: 1.582582, Loss_reg_scale: 1.0, Loss: 0.0, Total Force: 73.85652 (INFO), 2020-02-02 18:22:45,213n\n",
      "\n",
      "Validation (000750): Learning_Rate: 0.00059460354, Loss_reg_unscaled: 1.5149777, Loss_reg_scale: 1.0, Loss: 0.0, Total Force: 70.27232 (INFO), 2020-02-02 18:22:55,972n\n",
      "\n",
      "Optimization (000800): Learning_Rate: 0.0005743492, Loss_reg_unscaled: 1.3650739, Loss_reg_scale: 1.0, Loss: 0.0, Total Force: 68.55354 (INFO), 2020-02-02 18:31:50,789n\n",
      "\n",
      "Validation (000800): Learning_Rate: 0.0005743492, Loss_reg_unscaled: 1.5141466, Loss_reg_scale: 1.0, Loss: 0.0, Total Force: 70.13463 (INFO), 2020-02-02 18:32:01,507n\n",
      "\n",
      "Optimization (000850): Learning_Rate: 0.0005547847, Loss_reg_unscaled: 1.4887311, Loss_reg_scale: 1.0, Loss: 0.0, Total Force: 70.28572 (INFO), 2020-02-02 18:40:45,661n\n",
      "\n",
      "Validation (000850): Learning_Rate: 0.0005547847, Loss_reg_unscaled: 1.5342715, Loss_reg_scale: 1.0, Loss: 0.0, Total Force: 70.141815 (INFO), 2020-02-02 18:40:56,161n\n",
      "\n",
      "Optimization (000900): Learning_Rate: 0.00053588673, Loss_reg_unscaled: 1.3041117, Loss_reg_scale: 1.0, Loss: 0.0, Total Force: 65.48506 (INFO), 2020-02-02 18:49:43,372n\n",
      "\n",
      "Validation (000900): Learning_Rate: 0.00053588673, Loss_reg_unscaled: 1.4888971, Loss_reg_scale: 1.0, Loss: 0.0, Total Force: 69.155556 (INFO), 2020-02-02 18:49:54,068n\n",
      "\n",
      "Optimization (000950): Learning_Rate: 0.00051763246, Loss_reg_unscaled: 1.4894825, Loss_reg_scale: 1.0, Loss: 0.0, Total Force: 71.77893 (INFO), 2020-02-02 18:58:47,062n\n",
      "\n",
      "Validation (000950): Learning_Rate: 0.00051763246, Loss_reg_unscaled: 1.4313136, Loss_reg_scale: 1.0, Loss: 0.0, Total Force: 68.30751 (INFO), 2020-02-02 18:58:57,654n\n",
      "\n",
      "Optimization (001000): Learning_Rate: 0.0005, Loss_reg_unscaled: 1.2965201, Loss_reg_scale: 1.0, Loss: 0.0, Total Force: 67.14404 (INFO), 2020-02-02 19:07:48,458n\n",
      "\n",
      "Validation (001000): Learning_Rate: 0.0005, Loss_reg_unscaled: 1.4284452, Loss_reg_scale: 1.0, Loss: 0.0, Total Force: 68.35715 (INFO), 2020-02-02 19:07:59,349n\n",
      "\n",
      "Optimization (001050): Learning_Rate: 0.00048296817, Loss_reg_unscaled: 1.4185853, Loss_reg_scale: 1.0, Loss: 0.0, Total Force: 69.2372 (INFO), 2020-02-02 19:16:46,693n\n",
      "\n",
      "Validation (001050): Learning_Rate: 0.00048296817, Loss_reg_unscaled: 1.4172779, Loss_reg_scale: 1.0, Loss: 0.0, Total Force: 68.24443 (INFO), 2020-02-02 19:16:57,551n\n",
      "\n",
      "Optimization (001100): Learning_Rate: 0.0004665165, Loss_reg_unscaled: 1.2518046, Loss_reg_scale: 1.0, Loss: 0.0, Total Force: 64.65965 (INFO), 2020-02-02 19:25:49,860n\n",
      "\n",
      "Validation (001100): Learning_Rate: 0.0004665165, Loss_reg_unscaled: 1.3982546, Loss_reg_scale: 1.0, Loss: 0.0, Total Force: 68.10269 (INFO), 2020-02-02 19:26:00,396n\n",
      "\n",
      "Optimization (001150): Learning_Rate: 0.00045062523, Loss_reg_unscaled: 1.4265728, Loss_reg_scale: 1.0, Loss: 0.0, Total Force: 71.16344 (INFO), 2020-02-02 19:34:44,073n\n",
      "\n",
      "Validation (001150): Learning_Rate: 0.00045062523, Loss_reg_unscaled: 1.3769548, Loss_reg_scale: 1.0, Loss: 0.0, Total Force: 67.46823 (INFO), 2020-02-02 19:34:54,574n\n",
      "\n",
      "Optimization (001200): Learning_Rate: 0.0004352753, Loss_reg_unscaled: 1.2515825, Loss_reg_scale: 1.0, Loss: 0.0, Total Force: 66.34519 (INFO), 2020-02-02 19:43:45,865n\n",
      "\n"
     ]
    },
    {
     "name": "stdout",
     "output_type": "stream",
     "text": [
      "Validation (001200): Learning_Rate: 0.0004352753, Loss_reg_unscaled: 1.3658788, Loss_reg_scale: 1.0, Loss: 0.0, Total Force: 67.21968 (INFO), 2020-02-02 19:43:56,583n\n",
      "\n"
     ]
    }
   ],
   "source": [
    "for i in range(3000):\n",
    "    staggered_app.progress()"
   ]
  },
  {
   "cell_type": "code",
   "execution_count": null,
   "metadata": {},
   "outputs": [],
   "source": [
    "diffphys_checkpoint = staggered_app.save_model()\n",
    "diffphys_checkpoint"
   ]
  },
  {
   "cell_type": "markdown",
   "metadata": {},
   "source": [
    "To load the pretrained networks included in this repository, uncomment and execute the cell below."
   ]
  },
  {
   "cell_type": "code",
   "execution_count": null,
   "metadata": {},
   "outputs": [],
   "source": [
    "#staggered_app.load_checkpoints({'OP%d'%n: '../networks/burgers/staggered/OPn_1000' for n in [2,4,8,16,32]})"
   ]
  },
  {
   "cell_type": "markdown",
   "metadata": {},
   "source": [
    "Let's evaluate the performance of our networks after end-to-end training."
   ]
  },
  {
   "cell_type": "code",
   "execution_count": null,
   "metadata": {},
   "outputs": [],
   "source": [
    "print('Total Force (diff. phys. / staggered): %f' % staggered_app.infer_scalars(test_range)['Total Force'])\n",
    "states = staggered_app.infer_all_frames(test_range[0:1])\n",
    "bplt.burgers_figure('Staggered execution')\n",
    "for frame in range(0, step_count + 1):\n",
    "    plt.plot(states[frame].burgers.velocity.data[0,:,0], color=bplt.gradient_color(frame, step_count+1), linewidth=0.8)"
   ]
  },
  {
   "cell_type": "markdown",
   "metadata": {},
   "source": [
    "To evaluate our models using the prediction refinement scheme, we repeat the above steps but using a `RefinedSequence` instead of a `StaggeredSequence`."
   ]
  },
  {
   "cell_type": "code",
   "execution_count": null,
   "metadata": {
    "scrolled": true
   },
   "outputs": [],
   "source": [
    "import tensorflow as tf; tf.reset_default_graph()\n",
    "\n",
    "\n",
    "refined_app = ControlTraining(step_count,\n",
    "                      BurgersPDE(domain, viscosity, dt),\n",
    "                      datapath=data_path,\n",
    "                      val_range=val_range,\n",
    "                      train_range=train_range,\n",
    "                      trace_to_channel=lambda trace: 'burgers_velocity',\n",
    "                      obs_loss_frames=[],\n",
    "                      trainable_networks=['OP%d' % n for n in [2,4,8,16,32]],\n",
    "                      sequence_class=RefinedSequence,\n",
    "                      batch_size=100,\n",
    "                      view_size=20,\n",
    "                      learning_rate=1e-3,\n",
    "                      learning_rate_half_life=1000,\n",
    "                      dt=dt).prepare()"
   ]
  },
  {
   "cell_type": "markdown",
   "metadata": {},
   "source": [
    "To load the weights we just trained, run the cell below.\n",
    "\n",
    "To load the pretrained weights, skip the next cell and uncomment and run the one after that."
   ]
  },
  {
   "cell_type": "code",
   "execution_count": null,
   "metadata": {},
   "outputs": [],
   "source": [
    "refined_app.load_checkpoints({'OP%d' % n: diffphys_checkpoint for n in [2,4,8,16,32]})"
   ]
  },
  {
   "cell_type": "code",
   "execution_count": null,
   "metadata": {},
   "outputs": [],
   "source": [
    "#refined_app.load_checkpoints({'OP%d'%n: '../networks/burgers/staggered/OPn_389' for n in [2,4,8,16,32]})"
   ]
  },
  {
   "cell_type": "markdown",
   "metadata": {},
   "source": [
    "We could still refine training at this point by repeatedly calling `refined_app.progress()`.\n",
    "Here, we show that the prediction refinement scheme beats the staggered execution, despite not being trained with that architecture."
   ]
  },
  {
   "cell_type": "code",
   "execution_count": null,
   "metadata": {},
   "outputs": [],
   "source": [
    "print('Total Force (diff. phys. / refined): %f' % refined_app.infer_scalars(test_range)['Total Force'])\n",
    "states = refined_app.infer_all_frames(test_range[0:1])\n",
    "bplt.burgers_figure('Prediction refinement')\n",
    "for frame in range(0, step_count + 1):\n",
    "    plt.plot(states[frame].burgers.velocity.data[0,:,0], color=bplt.gradient_color(frame, step_count+1), linewidth=0.8)"
   ]
  }
 ],
 "metadata": {
  "kernelspec": {
   "display_name": "Python 3",
   "language": "python",
   "name": "python3"
  },
  "language_info": {
   "codemirror_mode": {
    "name": "ipython",
    "version": 3
   },
   "file_extension": ".py",
   "mimetype": "text/x-python",
   "name": "python",
   "nbconvert_exporter": "python",
   "pygments_lexer": "ipython3",
   "version": "3.6.5"
  }
 },
 "nbformat": 4,
 "nbformat_minor": 2
}
